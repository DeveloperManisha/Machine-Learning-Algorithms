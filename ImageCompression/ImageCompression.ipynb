{
 "cells": [
  {
   "cell_type": "code",
   "execution_count": 31,
   "metadata": {},
   "outputs": [],
   "source": [
    "from skimage import io\n",
    "from sklearn.cluster import KMeans\n",
    "import numpy as np\n",
    "import matplotlib.pyplot as plt\n",
    "import matplotlib.image as image"
   ]
  },
  {
   "cell_type": "code",
   "execution_count": 37,
   "metadata": {},
   "outputs": [
    {
     "name": "stdout",
     "output_type": "stream",
     "text": [
      "(72, 122, 3)\n",
      "(8784, 3)\n"
     ]
    },
    {
     "data": {
      "text/plain": [
       "array([0.99215686, 0.77647059, 0.56470588])"
      ]
     },
     "execution_count": 37,
     "metadata": {},
     "output_type": "execute_result"
    }
   ],
   "source": [
    "test_image = io.imread('low.png')\n",
    "print(test_image.shape)\n",
    "test_img_reshape = test_image.reshape(-1,3)\n",
    "test_img_reshape = test_img_reshape/255.0\n",
    "print(test_img_reshape.shape)\n",
    "test_img_reshape[0]"
   ]
  },
  {
   "cell_type": "code",
   "execution_count": 58,
   "metadata": {},
   "outputs": [
    {
     "name": "stdout",
     "output_type": "stream",
     "text": [
      "(8784, 3)\n"
     ]
    }
   ],
   "source": [
    "k_colors = KMeans(n_clusters=5).fit(test_img_reshape)\n",
    "\n",
    "img100=k_colors.cluster_centers_[k_colors.labels_]\n",
    "print(img100.shape)\n",
    "img100=np.reshape(img100, (test_image.shape))\n",
    "image.imsave('img5.png',img100)\n",
    "\n"
   ]
  },
  {
   "cell_type": "code",
   "execution_count": 52,
   "metadata": {},
   "outputs": [
    {
     "data": {
      "image/png": "[encoded data removed]",
      "text/plain": [
       "<IPython.core.display.Image object>"
      ]
     },
     "metadata": {},
     "output_type": "display_data"
    }
   ],
   "source": [
    "from IPython.core.display import Image, display\n",
    "display(Image(filename='img50.png'))"
   ]
  },
  {
   "cell_type": "code",
   "execution_count": null,
   "metadata": {},
   "outputs": [],
   "source": []
  }
 ],
 "metadata": {
  "kernelspec": {
   "display_name": "Python 3",
   "language": "python",
   "name": "python3"
  },
  "language_info": {
   "codemirror_mode": {
    "name": "ipython",
    "version": 3
   },
   "file_extension": ".py",
   "mimetype": "text/x-python",
   "name": "python",
   "nbconvert_exporter": "python",
   "pygments_lexer": "ipython3",
   "version": "3.6.5"
  }
 },
 "nbformat": 4,
 "nbformat_minor": 2
}
